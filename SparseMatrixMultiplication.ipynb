{
  "nbformat": 4,
  "nbformat_minor": 0,
  "metadata": {
    "colab": {
      "name": "SparseMatrixMultiplication.ipynb",
      "provenance": [],
      "authorship_tag": "ABX9TyMMSWjJk8cOLLu2f7OLy6ur",
      "include_colab_link": true
    },
    "kernelspec": {
      "name": "python3",
      "display_name": "Python 3"
    },
    "language_info": {
      "name": "python"
    }
  },
  "cells": [
    {
      "cell_type": "markdown",
      "metadata": {
        "id": "view-in-github",
        "colab_type": "text"
      },
      "source": [
        "<a href=\"https://colab.research.google.com/github/shahidakhtarkhan/binarystudy.github.io/blob/main/SparseMatrixMultiplication.ipynb\" target=\"_parent\"><img src=\"https://colab.research.google.com/assets/colab-badge.svg\" alt=\"Open In Colab\"/></a>"
      ]
    },
    {
      "cell_type": "code",
      "metadata": {
        "colab": {
          "base_uri": "https://localhost:8080/"
        },
        "id": "NJF5N1B2j38D",
        "outputId": "3b23a405-60e5-4d7f-d909-6096818d84b8"
      },
      "source": [
        "# Python program to multpliply two \n",
        "# csr matrices using multiply()\n",
        "\n",
        "# Import required libraries\n",
        "import numpy as np\n",
        "from scipy.sparse import csr_matrix\n",
        "\n",
        "# Create first csr matrix A\n",
        "\n",
        "row_A = np.array([0, 0, 1, 2 ])\n",
        "col_A = np.array([0, 1, 0, 1])\n",
        "\n",
        "data_A = np.array([4, 3, 8, 9])\n",
        "\n",
        "csrMatrix_A = csr_matrix((data_A, (row_A, col_A)),\n",
        "\t\t\t\t\t\tshape = (3, 3))\n",
        "# print first csr matrix\n",
        "print(\"first csr matrix: \\n\", csrMatrix_A.toarray())\n",
        "\n",
        "# Create second csr matrix B\n",
        "\n",
        "row_B = np.array([0, 1, 1, 2 ])\n",
        "col_B = np.array([0, 0, 1, 0])\n",
        "\n",
        "data_B = np.array([7, 2, 5, 1])\n",
        "\n",
        "csrMatrix_B = csr_matrix((data_B, (row_B, col_B)),\n",
        "\t\t\t\t\t\tshape = (3, 3))\n",
        "# print second scr matrix\n",
        "print(\"second csr matrix:\\n\", csrMatrix_B.toarray())\n",
        "\n",
        "# Multiply these matrices\n",
        "sparseMatrix_AB = csrMatrix_A.multiply(csrMatrix_B)\n",
        "\n",
        "# print resultant matrix\n",
        "print(\"Product Sparse Matrix:\\n\",sparseMatrix_AB.toarray() )\n"
      ],
      "execution_count": 9,
      "outputs": [
        {
          "output_type": "stream",
          "text": [
            "first csr matrix: \n",
            " [[4 3 0]\n",
            " [8 0 0]\n",
            " [0 9 0]]\n",
            "second csr matrix:\n",
            " [[7 0 0]\n",
            " [2 5 0]\n",
            " [1 0 0]]\n",
            "Product Sparse Matrix:\n",
            " [[28  0  0]\n",
            " [16  0  0]\n",
            " [ 0  0  0]]\n"
          ],
          "name": "stdout"
        }
      ]
    },
    {
      "cell_type": "code",
      "metadata": {
        "colab": {
          "base_uri": "https://localhost:8080/"
        },
        "id": "9yB3918klhrJ",
        "outputId": "61f465c4-4a12-4a63-e003-30950f44f7c6"
      },
      "source": [
        "# Python program to multpliply two \n",
        "# csc matrices using multiply()\n",
        "\n",
        "# Import required libraries\n",
        "import numpy as np\n",
        "from scipy.sparse import csc_matrix\n",
        "\n",
        "# Create first csc matrix A\n",
        "\n",
        "row_A = np.array([0, 0, 1, 2 ])\n",
        "col_A = np.array([0, 1, 0, 1])\n",
        "\n",
        "data_A = np.array([4, 3, 8, 9])\n",
        "\n",
        "cscMatrix_A = csc_matrix((data_A, (row_A, col_A)),\n",
        "\t\t\t\t\t\tshape = (3, 3))\n",
        "# print first csc matrix\n",
        "print(\"first csc matrix: \\n\", cscMatrix_A.toarray())\n",
        "\n",
        "# Create second csc matrix B\n",
        "\n",
        "row_B = np.array([0, 1, 1, 2 ])\n",
        "col_B = np.array([0, 0, 1, 0])\n",
        "\n",
        "data_B = np.array([7, 2, 5, 1])\n",
        "\n",
        "cscMatrix_B = csc_matrix((data_B, (row_B, col_B)),\n",
        "\t\t\t\t\t\tshape = (3, 3))\n",
        "# print second csc matrix\n",
        "print(\"second csc matrix:\\n\", cscMatrix_B.toarray())\n",
        "\n",
        "# Multiply these matrices\n",
        "sparseMatrix_AB = cscMatrix_A.multiply(cscMatrix_B)\n",
        "\n",
        "# print resultant matrix\n",
        "print(\"Product Sparse Matrix:\\n\",sparseMatrix_AB.toarray() )\n"
      ],
      "execution_count": 10,
      "outputs": [
        {
          "output_type": "stream",
          "text": [
            "first csc matrix: \n",
            " [[4 3 0]\n",
            " [8 0 0]\n",
            " [0 9 0]]\n",
            "second csc matrix:\n",
            " [[7 0 0]\n",
            " [2 5 0]\n",
            " [1 0 0]]\n",
            "Product Sparse Matrix:\n",
            " [[28  0  0]\n",
            " [16  0  0]\n",
            " [ 0  0  0]]\n"
          ],
          "name": "stdout"
        }
      ]
    },
    {
      "cell_type": "code",
      "metadata": {
        "colab": {
          "base_uri": "https://localhost:8080/"
        },
        "id": "aD9_I4WnoVnU",
        "outputId": "c301d030-b8de-4e10-d512-ecde38dfe6b3"
      },
      "source": [
        "# Python program to multpliply  \n",
        "# csc and csr matrices using multiply()\n",
        "\n",
        "# Import required libraries\n",
        "import numpy as np\n",
        "from scipy.sparse import csc_matrix\n",
        "\n",
        "# Create csc matrix\n",
        "\n",
        "row_A = np.array([0, 0, 1, 2 ])\n",
        "col_A = np.array([0, 1, 0, 1])\n",
        "\n",
        "data_A = np.array([4, 3, 8, 9])\n",
        "\n",
        "cscMatrix = csc_matrix((data_A, (row_A, col_A)),\n",
        "\t\t\t\t\t\tshape = (3, 3))\n",
        "# print  csc matrix\n",
        "print(\"csc matrix: \\n\", cscMatrix.toarray())\n",
        "\n",
        "# Create csr matrix \n",
        "\n",
        "row_B = np.array([0, 1, 1, 2 ])\n",
        "col_B = np.array([0, 0, 1, 0])\n",
        "\n",
        "data_B = np.array([7, 2, 5, 1])\n",
        "\n",
        "csrMatrix_B = csc_matrix((data_B, (row_B, col_B)),\n",
        "\t\t\t\t\t\tshape = (3, 3))\n",
        "# print csr matrix\n",
        "print(\"csr matrix:\\n\", csrMatrix_B.toarray())\n",
        "\n",
        "# Multiply csc matrix with csr matrix\n",
        "sparseMatrix = cscMatrix_A.multiply(csrMatrix_B)\n",
        "# print resultant matrix\n",
        "print(\"Product csc with csr Matrix:\\n\",sparseMatrix.toarray() )\n",
        "\n",
        "# Multiply csr matrix with csc matrix\n",
        "sparseMatrix = csrMatrix_A.multiply(cscMatrix_B)\n",
        "# print resultant matrix\n",
        "print(\"Product csr with csc Matrix:\\n\",sparseMatrix.toarray() )\n"
      ],
      "execution_count": 11,
      "outputs": [
        {
          "output_type": "stream",
          "text": [
            "csc matrix: \n",
            " [[4 3 0]\n",
            " [8 0 0]\n",
            " [0 9 0]]\n",
            "csr matrix:\n",
            " [[7 0 0]\n",
            " [2 5 0]\n",
            " [1 0 0]]\n",
            "Product csc with csr Matrix:\n",
            " [[28  0  0]\n",
            " [16  0  0]\n",
            " [ 0  0  0]]\n",
            "Product csr with csc Matrix:\n",
            " [[28  0  0]\n",
            " [16  0  0]\n",
            " [ 0  0  0]]\n"
          ],
          "name": "stdout"
        }
      ]
    },
    {
      "cell_type": "code",
      "metadata": {
        "id": "VhMibjGGpQq_"
      },
      "source": [
        ""
      ],
      "execution_count": null,
      "outputs": []
    }
  ]
}